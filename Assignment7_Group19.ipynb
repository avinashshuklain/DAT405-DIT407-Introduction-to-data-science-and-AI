{
 "cells": [
  {
   "cell_type": "markdown",
   "metadata": {},
   "source": [
    "# <center>DAT407 Assignment 7 – Group 19</center>\n",
    "### <center>Avinash Shukla - 8 hours</center>\n",
    "### <center>Josef Rasheed - 8 hours</center>\n",
    "### <center>May 17, 2023</center>"
   ]
  },
  {
   "cell_type": "markdown",
   "metadata": {
    "id": "rHoSDyYpdh-s"
   },
   "source": [
    "Assignment 7: Neural Networks using Keras and Tensorflow"
   ]
  },
  {
   "cell_type": "code",
   "execution_count": 1,
   "metadata": {
    "id": "02ZYZ-WmdhwH"
   },
   "outputs": [],
   "source": [
    "# imports\n",
    "from __future__ import print_function\n",
    "import keras\n",
    "from keras import utils as np_utils\n",
    "import tensorflow\n",
    "from keras.datasets import mnist\n",
    "from keras.models import Sequential\n",
    "from keras.layers import Dense, Dropout, Flatten\n",
    "from keras.layers import Conv2D, MaxPooling2D\n",
    "from keras import backend as K\n",
    "import tensorflow as tf\n",
    "from matplotlib import pyplot as plt\n",
    "import numpy as np"
   ]
  },
  {
   "cell_type": "code",
   "execution_count": 2,
   "metadata": {
    "colab": {
     "base_uri": "https://localhost:8080/"
    },
    "id": "BJRCoRmew8Zd",
    "outputId": "8a74f963-06c8-4ba7-fb03-889e43dfa15e"
   },
   "outputs": [],
   "source": [
    "# Hyper-parameters data-loading and formatting\n",
    "\n",
    "batch_size = 128\n",
    "num_classes = 10\n",
    "epochs = 10\n",
    "\n",
    "img_rows, img_cols = 28, 28\n",
    "\n",
    "(x_train, lbl_train), (x_test, lbl_test) = mnist.load_data()\n",
    "\n",
    "if K.image_data_format() == 'channels_first':\n",
    "    x_train = x_train.reshape(x_train.shape[0], 1, img_rows, img_cols)\n",
    "    x_test = x_test.reshape(x_test.shape[0], 1, img_rows, img_cols)\n",
    "    input_shape = (1, img_rows, img_cols)\n",
    "else:\n",
    "    x_train = x_train.reshape(x_train.shape[0], img_rows, img_cols, 1)\n",
    "    x_test = x_test.reshape(x_test.shape[0], img_rows, img_cols, 1)\n",
    "    input_shape = (img_rows, img_cols, 1)"
   ]
  },
  {
   "cell_type": "markdown",
   "metadata": {
    "id": "-I3g1RrZ0wpI"
   },
   "source": [
    "**Preprocessing**"
   ]
  },
  {
   "cell_type": "markdown",
   "metadata": {},
   "source": [
    "**1.1 (1/2)** In this step, we need to adjust the data to a more convenient scale because our original data values range from 0 to 255. To do this, we convert the data type from whole numbers (integers) to decimals (floats). Then, we normalize the data by dividing each value by 255. By doing this, we ensure that all the data values are between 0 and 1, which makes it easier to work with."
   ]
  },
  {
   "cell_type": "code",
   "execution_count": 3,
   "metadata": {
    "id": "UswCCQLS0s1I"
   },
   "outputs": [],
   "source": [
    "x_train = x_train.astype('float32')\n",
    "x_test = x_test.astype('float32')\n",
    "\n",
    "x_train /= 255\n",
    "x_test /= 255\n",
    "\n",
    "y_train = keras.utils.np_utils.to_categorical(lbl_train, num_classes)\n",
    "y_test = keras.utils.np_utils.to_categorical(lbl_test, num_classes)\n"
   ]
  },
  {
   "cell_type": "markdown",
   "metadata": {},
   "source": [
    "**1.1 (2/2)** Now that we have prepared the data, it's time to set up the model. In this case, we are using a sequential model, which is suitable for tasks like classifying images. The sequential model is designed by stacking layers on top of each other in a specific order to create the model structure. These layers work together to process the input data and make predictions."
   ]
  },
  {
   "cell_type": "code",
   "execution_count": 4,
   "metadata": {
    "id": "N7Aer42gk1W9"
   },
   "outputs": [
    {
     "name": "stdout",
     "output_type": "stream",
     "text": [
      "Epoch 1/10\n",
      "469/469 [==============================] - 1s 2ms/step - loss: 0.4820 - accuracy: 0.8603 - val_loss: 0.2413 - val_accuracy: 0.9309\n",
      "Epoch 2/10\n",
      "469/469 [==============================] - 1s 2ms/step - loss: 0.2234 - accuracy: 0.9351 - val_loss: 0.1879 - val_accuracy: 0.9469\n",
      "Epoch 3/10\n",
      "469/469 [==============================] - 1s 2ms/step - loss: 0.1717 - accuracy: 0.9499 - val_loss: 0.1574 - val_accuracy: 0.9527\n",
      "Epoch 4/10\n",
      "469/469 [==============================] - 1s 1ms/step - loss: 0.1408 - accuracy: 0.9596 - val_loss: 0.1295 - val_accuracy: 0.9594\n",
      "Epoch 5/10\n",
      "469/469 [==============================] - 1s 1ms/step - loss: 0.1205 - accuracy: 0.9649 - val_loss: 0.1280 - val_accuracy: 0.9633\n",
      "Epoch 6/10\n",
      "469/469 [==============================] - 1s 1ms/step - loss: 0.1063 - accuracy: 0.9691 - val_loss: 0.1132 - val_accuracy: 0.9656\n",
      "Epoch 7/10\n",
      "469/469 [==============================] - 1s 2ms/step - loss: 0.0945 - accuracy: 0.9725 - val_loss: 0.1049 - val_accuracy: 0.9680\n",
      "Epoch 8/10\n",
      "469/469 [==============================] - 1s 2ms/step - loss: 0.0854 - accuracy: 0.9748 - val_loss: 0.1032 - val_accuracy: 0.9692\n",
      "Epoch 9/10\n",
      "469/469 [==============================] - 1s 2ms/step - loss: 0.0780 - accuracy: 0.9769 - val_loss: 0.0950 - val_accuracy: 0.9718\n",
      "Epoch 10/10\n",
      "469/469 [==============================] - 1s 2ms/step - loss: 0.0709 - accuracy: 0.9790 - val_loss: 0.0978 - val_accuracy: 0.9691\n",
      "313/313 [==============================] - 0s 919us/step - loss: 0.0978 - accuracy: 0.9691\n",
      "Test loss: 0.09784173965454102, Test accuracy 0.9690999984741211\n",
      "Highest validation accuracy: 0.9718000292778015\n"
     ]
    }
   ],
   "source": [
    "## Define model ##\n",
    "model = Sequential()\n",
    "\n",
    "model.add(Flatten())\n",
    "model.add(Dense(64, activation = 'relu'))\n",
    "model.add(Dense(64, activation = 'relu'))\n",
    "model.add(Dense(num_classes, activation='softmax'))\n",
    "\n",
    "\n",
    "model.compile(loss=keras.losses.categorical_crossentropy,\n",
    "               optimizer=tensorflow.keras.optimizers.SGD(learning_rate = 0.1),\n",
    "        metrics=['accuracy'],)\n",
    "\n",
    "fit_info = model.fit(x_train, y_train,\n",
    "           batch_size=batch_size,\n",
    "           epochs=epochs,\n",
    "           verbose=1,\n",
    "           validation_data=(x_test, y_test))\n",
    "score = model.evaluate(x_test, y_test, verbose=1)\n",
    "print('Test loss: {}, Test accuracy {}'.format(score[0], score[1]))\n",
    "print('Highest validation accuracy: ' + str(np.max(fit_info.history.get('val_accuracy'))))"
   ]
  },
  {
   "cell_type": "code",
   "execution_count": 5,
   "metadata": {},
   "outputs": [
    {
     "name": "stdout",
     "output_type": "stream",
     "text": [
      "Model: \"sequential\"\n",
      "_________________________________________________________________\n",
      " Layer (type)                Output Shape              Param #   \n",
      "=================================================================\n",
      " flatten (Flatten)           (None, 784)               0         \n",
      "                                                                 \n",
      " dense (Dense)               (None, 64)                50240     \n",
      "                                                                 \n",
      " dense_1 (Dense)             (None, 64)                4160      \n",
      "                                                                 \n",
      " dense_2 (Dense)             (None, 10)                650       \n",
      "                                                                 \n",
      "=================================================================\n",
      "Total params: 55,050\n",
      "Trainable params: 55,050\n",
      "Non-trainable params: 0\n",
      "_________________________________________________________________\n"
     ]
    }
   ],
   "source": [
    "# Using the model.summary we can get an overview of our model\n",
    "model.summary()"
   ]
  },
  {
   "cell_type": "markdown",
   "metadata": {},
   "source": [
    "**2.1** Our model has four layers: an input layer, two hidden layers, and an output layer. \n",
    "The input layer takes the 28x28 image and flattens it into a single line of 784 pixels. \n",
    "The two hidden layers have 64 neurons each, and the output layer has 10 neurons \n",
    "representing the numbers 0-9. The number of neurons in the hidden layers can \n",
    "change to find the best results. Overall, the model has 55,050 parameters, \n",
    "which are the variables it learns during training.\n",
    "\n",
    "Most of the layers in our model use a special type of mathematical function \n",
    "called Rectified Linear Unit (ReLu) activation. ReLu is popular because \n",
    "it's fast and doesn't involve complex calculations. \n",
    "It helps avoid a problem called vanishing gradients, \n",
    "where the model struggles to learn when the gradients become very small. \n",
    "The output layer, however, uses a different activation function called softmax. \n",
    "This function creates a distribution of probabilities for each classification, \n",
    "where the probabilities add up to one. It then activates the neuron with the highest probability, \n",
    "which gives us the final output of our model."
   ]
  },
  {
   "cell_type": "markdown",
   "metadata": {},
   "source": [
    "**2.2** The loss function we use is called categorical crossentropy. \n",
    "It's used when we have multiple classes, and each sample belongs \n",
    "to only one class. The purpose of this function is to measure how \n",
    "different the predicted probabilities are from the true class labels. \n",
    "It helps the model learn to predict the correct class for each sample.\n",
    "\n",
    "The formula for categorical crossentropy calculates the negative \n",
    "sum of the true label multiplied by the logarithm of the predicted \n",
    "probability for each class. This formula helps us quantify the dissimilarity \n",
    "between the predicted probabilities and the actual labels. By minimizing \n",
    "this loss during training, the model gets better at making accurate predictions."
   ]
  },
  {
   "cell_type": "markdown",
   "metadata": {},
   "source": [
    "**2.3**"
   ]
  },
  {
   "cell_type": "code",
   "execution_count": 6,
   "metadata": {},
   "outputs": [
    {
     "data": {
      "text/plain": [
       "<function matplotlib.pyplot.show(close=None, block=None)>"
      ]
     },
     "execution_count": 6,
     "metadata": {},
     "output_type": "execute_result"
    },
    {
     "data": {
      "image/png": "[encoded data removed]",
      "text/plain": [
       "<Figure size 640x480 with 1 Axes>"
      ]
     },
     "metadata": {},
     "output_type": "display_data"
    }
   ],
   "source": [
    "# Plotting the training and validation accuracy for each epoch\n",
    "epoch = list(range(0,10))\n",
    "\n",
    "accuracy = fit_info.history['accuracy']\n",
    "val_accuracy = fit_info.history['val_accuracy']\n",
    "\n",
    "plt.plot(epoch,accuracy, label = 'Training accuracy' )\n",
    "plt.plot(epoch,val_accuracy,label = 'Validation accuracy')\n",
    "plt.ylabel('Accuracy')\n",
    "plt.xlabel('Epoch')\n",
    "plt.legend(loc='lower right')\n",
    "plt.show"
   ]
  },
  {
   "cell_type": "markdown",
   "metadata": {},
   "source": [
    "**2.4**"
   ]
  },
  {
   "cell_type": "code",
   "execution_count": 7,
   "metadata": {},
   "outputs": [
    {
     "name": "stdout",
     "output_type": "stream",
     "text": [
      "Test loss: 0.06875218451023102, Test accuracy 0.9810000061988831\n",
      "Highest validation accuracy: 0.9818999767303467\n"
     ]
    }
   ],
   "source": [
    "## Updated model\n",
    "model2 = Sequential()\n",
    "\n",
    "model2.add(Flatten())\n",
    "model2.add(Dense(500, activation = 'relu'))\n",
    "model2.add(Dense(300, activation = 'relu'))\n",
    "model2.add(Dense(num_classes, activation='softmax'))\n",
    "\n",
    "\n",
    "model2.compile(loss=keras.losses.categorical_crossentropy,\n",
    "               optimizer=tensorflow.keras.optimizers.SGD(learning_rate = 0.1),\n",
    "        metrics=['accuracy'],)\n",
    "\n",
    "fit_info = model2.fit(x_train, y_train,\n",
    "           batch_size=batch_size,\n",
    "           epochs=40,\n",
    "           verbose=0,\n",
    "           validation_data=(x_test, y_test))\n",
    "score = model2.evaluate(x_test, y_test, verbose=0)\n",
    "print('Test loss: {}, Test accuracy {}'.format(score[0], score[1]))\n",
    "print('Highest validation accuracy: ' + str(np.max(fit_info.history.get('val_accuracy'))))"
   ]
  },
  {
   "cell_type": "markdown",
   "metadata": {},
   "source": [
    "The best validation accuracy we could achieve is 0.9819. Now let's try implementing weight decay."
   ]
  },
  {
   "cell_type": "code",
   "execution_count": 8,
   "metadata": {},
   "outputs": [
    {
     "name": "stdout",
     "output_type": "stream",
     "text": [
      "Test loss: 0.11776416003704071, Test accuracy 0.9815000295639038\n",
      "0.001\n",
      "Test loss: 0.12149743735790253, Test accuracy 0.9807999730110168\n",
      "0.001\n",
      "Test loss: 0.11831645667552948, Test accuracy 0.9815000295639038\n",
      "0.001\n",
      "Test loss: 0.1224227324128151, Test accuracy 0.9790999889373779\n",
      "0.00075\n",
      "Test loss: 0.11858780682086945, Test accuracy 0.98089998960495\n",
      "0.00075\n",
      "Test loss: 0.1115642562508583, Test accuracy 0.9818000197410583\n",
      "0.00075\n",
      "Test loss: 0.10884205251932144, Test accuracy 0.9828000068664551\n",
      "0.0005\n",
      "Test loss: 0.10866054892539978, Test accuracy 0.9829999804496765\n",
      "0.0005\n",
      "Test loss: 0.11244098097085953, Test accuracy 0.9818000197410583\n",
      "0.0005\n",
      "Test loss: 0.1211809441447258, Test accuracy 0.9830999970436096\n",
      "0.00025\n",
      "Test loss: 0.12106528133153915, Test accuracy 0.9817000031471252\n",
      "0.00025\n",
      "Test loss: 0.12313398718833923, Test accuracy 0.9810000061988831\n",
      "0.00025\n",
      "Test loss: 0.06934043765068054, Test accuracy 0.9817000031471252\n",
      "1e-06\n",
      "Test loss: 0.06594930589199066, Test accuracy 0.9817000031471252\n",
      "1e-06\n",
      "Test loss: 0.06532236933708191, Test accuracy 0.9818999767303467\n",
      "1e-06\n",
      "{0.001: [0.9829000234603882, 0.9818000197410583, 0.9815000295639038], 0.00075: [0.982699990272522, 0.9833999872207642, 0.9829999804496765], 0.0005: [0.9828000068664551, 0.9836999773979187, 0.9825999736785889], 0.00025: [0.983299970626831, 0.9835000038146973, 0.9828000068664551], 1e-06: [0.982200026512146, 0.9824000000953674, 0.9825999736785889]}\n",
      "Highest validation accuracy: 0.9836999773979187\n"
     ]
    }
   ],
   "source": [
    "## Updated model with weight decay\n",
    "from tensorflow.keras import regularizers\n",
    "\n",
    "regularization_factors = [0.001, 0.00075, 0.0005, 0.00025, 0.000001]\n",
    "results={}\n",
    "highest_acc=[]\n",
    "\n",
    "for i in regularization_factors:\n",
    "    results[i] = []\n",
    "    for j in range(3):\n",
    "\n",
    "        ## Define model3 ##\n",
    "        model3 = Sequential()\n",
    "\n",
    "        model3.add(Flatten())\n",
    "        model3.add(Dense(500, activation = 'relu', kernel_regularizer=regularizers.l2(i)))\n",
    "        model3.add(Dense(300, activation = 'relu',kernel_regularizer=regularizers.l2(i)))\n",
    "        model3.add(Dense(num_classes, activation='softmax'))\n",
    "\n",
    "\n",
    "        model3.compile(loss=keras.losses.categorical_crossentropy,\n",
    "                    optimizer=keras.optimizers.SGD(learning_rate = 0.1),\n",
    "                metrics=['accuracy'],)\n",
    "\n",
    "        fit_info = model3.fit(x_train, y_train,\n",
    "                batch_size=batch_size,\n",
    "                epochs=40,\n",
    "                verbose=0,\n",
    "                validation_data=(x_test, y_test))\n",
    "        score = model3.evaluate(x_test, y_test, verbose=0)\n",
    "        print('Test loss: {}, Test accuracy {}'.format(score[0], score[1]))\n",
    "        print(i)\n",
    "        results[i].append(np.max(fit_info.history.get('val_accuracy')))\n",
    "        highest_acc.append(np.max(fit_info.history.get('val_accuracy')))\n",
    "print(results)\n",
    "print('Highest validation accuracy: ' + str(np.max(highest_acc)))"
   ]
  },
  {
   "cell_type": "code",
   "execution_count": 18,
   "metadata": {},
   "outputs": [
    {
     "data": {
      "text/plain": [
       "[<matplotlib.axis.XTick at 0x14cd0d539a0>,\n",
       " <matplotlib.axis.XTick at 0x14cd0d508e0>,\n",
       " <matplotlib.axis.XTick at 0x14cd0d531c0>,\n",
       " <matplotlib.axis.XTick at 0x14cd21c23e0>,\n",
       " <matplotlib.axis.XTick at 0x14cd21c01f0>]"
      ]
     },
     "execution_count": 18,
     "metadata": {},
     "output_type": "execute_result"
    },
    {
     "data": {
      "image/png": "[encoded data removed]",
      "text/plain": [
       "<Figure size 640x480 with 1 Axes>"
      ]
     },
     "metadata": {},
     "output_type": "display_data"
    }
   ],
   "source": [
    "stds = np.array([np.std(i) for i in results.values()])\n",
    "val_acc = np.array([np.mean(i) for i in results.values()])\n",
    "\n",
    "# Plot validation accuracy and standard deviation as error bars\n",
    "plt.errorbar(regularization_factors, val_acc, yerr=stds, fmt='-o', ecolor='r', capsize=4)\n",
    "# Set plot labels and title\n",
    "plt.xlabel('Regularization factors')\n",
    "plt.ylabel('Accuracy')\n",
    "plt.title('Accuracy as a function of regularization factors')\n",
    "plt.gca().set_xticks([0.001, 0.00075, 0.0005, 0.00025, 0.000001])"
   ]
  },
  {
   "cell_type": "markdown",
   "metadata": {},
   "source": [
    "The highest accuracy achieved in our experiment was 0.9837, which was slightly lower than Hilton's result. There could be a few reasons for this difference. One possible reason is that we used a different number of training epochs compared to Hilton. Using a higher number of epochs, up to a certain point, can improve accuracy. On the other hand, using too many epochs can lead to overfitting the model and resultin lower accuracy. So, the difference in accuracy might be due to the variation in the number of epochs use. Another factor that can affect accuracy is the regularization factor. In our case, we tried different factors and observed different accuracies. Hilton mentioned using five factors within a certain range,but the specific factors chosen may have been different between our experiment and Hilton's. These variations in the regularization factor can also contribute to the differencein accuracy between the two results."
   ]
  },
  {
   "cell_type": "code",
   "execution_count": 15,
   "metadata": {},
   "outputs": [
    {
     "name": "stdout",
     "output_type": "stream",
     "text": [
      "Epoch 1/10\n",
      "938/938 [==============================] - 17s 17ms/step - loss: 0.2539 - accuracy: 0.9211 - val_loss: 0.0820 - val_accuracy: 0.9751\n",
      "Epoch 2/10\n",
      "938/938 [==============================] - 16s 17ms/step - loss: 0.0715 - accuracy: 0.9781 - val_loss: 0.0685 - val_accuracy: 0.9776\n",
      "Epoch 3/10\n",
      "938/938 [==============================] - 16s 17ms/step - loss: 0.0527 - accuracy: 0.9839 - val_loss: 0.0800 - val_accuracy: 0.9748\n",
      "Epoch 4/10\n",
      "938/938 [==============================] - 16s 17ms/step - loss: 0.0412 - accuracy: 0.9873 - val_loss: 0.0514 - val_accuracy: 0.9833\n",
      "Epoch 5/10\n",
      "938/938 [==============================] - 16s 17ms/step - loss: 0.0331 - accuracy: 0.9898 - val_loss: 0.0327 - val_accuracy: 0.9883\n",
      "Epoch 6/10\n",
      "938/938 [==============================] - 16s 17ms/step - loss: 0.0283 - accuracy: 0.9914 - val_loss: 0.0372 - val_accuracy: 0.9868\n",
      "Epoch 7/10\n",
      "938/938 [==============================] - 16s 17ms/step - loss: 0.0239 - accuracy: 0.9924 - val_loss: 0.0283 - val_accuracy: 0.9910\n",
      "Epoch 8/10\n",
      "938/938 [==============================] - 17s 18ms/step - loss: 0.0206 - accuracy: 0.9933 - val_loss: 0.0326 - val_accuracy: 0.9903\n",
      "Epoch 9/10\n",
      "938/938 [==============================] - 17s 18ms/step - loss: 0.0168 - accuracy: 0.9948 - val_loss: 0.0283 - val_accuracy: 0.9903\n",
      "Epoch 10/10\n",
      "938/938 [==============================] - 16s 18ms/step - loss: 0.0142 - accuracy: 0.9957 - val_loss: 0.0278 - val_accuracy: 0.9919\n",
      "Test loss: 0.027781398966908455, Test accuracy 0.9919000267982483\n"
     ]
    }
   ],
   "source": [
    "# Model with Convolutional layers\n",
    "model4 = Sequential()\n",
    "\n",
    "model4.add(Conv2D(32,kernel_size=(3,3), activation='relu'))\n",
    "model4.add(MaxPooling2D(pool_size=(2,2)))\n",
    "model4.add(Conv2D(64,kernel_size=(3,3), activation='relu'))\n",
    "model4.add(MaxPooling2D(pool_size=(2,2)))\n",
    "model4.add(Flatten())\n",
    "model4.add(Dense(64, activation = 'relu'))\n",
    "model4.add(Dense(num_classes, activation='softmax'))\n",
    "\n",
    "\n",
    "model4.compile(loss=keras.losses.categorical_crossentropy,\n",
    "               optimizer=tensorflow.keras.optimizers.SGD(learning_rate = 0.1),\n",
    "        metrics=['accuracy'],)\n",
    "\n",
    "fit_info = model4.fit(x_train, y_train,\n",
    "           batch_size=64,\n",
    "           epochs=10,\n",
    "           verbose=1,\n",
    "           validation_data=(x_test, y_test))\n",
    "score = model4.evaluate(x_test, y_test, verbose=0)\n",
    "print('Test loss: {}, Test accuracy {}'.format(score[0], score[1]))"
   ]
  },
  {
   "cell_type": "code",
   "execution_count": 16,
   "metadata": {},
   "outputs": [
    {
     "name": "stdout",
     "output_type": "stream",
     "text": [
      "Model: \"sequential_21\"\n",
      "_________________________________________________________________\n",
      " Layer (type)                Output Shape              Param #   \n",
      "=================================================================\n",
      " conv2d_8 (Conv2D)           (None, 26, 26, 32)        320       \n",
      "                                                                 \n",
      " max_pooling2d_6 (MaxPooling  (None, 13, 13, 32)       0         \n",
      " 2D)                                                             \n",
      "                                                                 \n",
      " conv2d_9 (Conv2D)           (None, 11, 11, 64)        18496     \n",
      "                                                                 \n",
      " max_pooling2d_7 (MaxPooling  (None, 5, 5, 64)         0         \n",
      " 2D)                                                             \n",
      "                                                                 \n",
      " flatten_21 (Flatten)        (None, 1600)              0         \n",
      "                                                                 \n",
      " dense_59 (Dense)            (None, 64)                102464    \n",
      "                                                                 \n",
      " dense_60 (Dense)            (None, 10)                650       \n",
      "                                                                 \n",
      "=================================================================\n",
      "Total params: 121,930\n",
      "Trainable params: 121,930\n",
      "Non-trainable params: 0\n",
      "_________________________________________________________________\n"
     ]
    }
   ],
   "source": [
    "# Using the model.summary we can get an overview of our model\n",
    "model4.summary()"
   ]
  },
  {
   "cell_type": "markdown",
   "metadata": {},
   "source": [
    "As we can see, a combination of Convolutional, Max Pooling and and Dense layers can achive a 99% validation accuracy in under 10 epochs. Max Pooling downsamples the data and makes is run faster. In some cases, Max Pooling can also help with over fitting."
   ]
  },
  {
   "cell_type": "markdown",
   "metadata": {},
   "source": [
    "Convolutional layers are usually very good when processing grid-like data such as images. They are very good at learning and finding features. Convolutional layers are also more efficient than fully connected layers because they reduce the number of parameters that need to be learned and thus reduce the risk of overfitting. In contrast, fully connected layers connect every neuron in one layer to every neuron in the other layer. This makes them more flexible in learning but also requires more parameters and is more prone to overfitting. Because of their flexibility, they can more generally be used in many different applications."
   ]
  }
 ],
 "metadata": {
  "colab": {
   "collapsed_sections": [],
   "name": "Assignment_7_NN.ipynb",
   "provenance": []
  },
  "kernelspec": {
   "display_name": "Python 3 (ipykernel)",
   "language": "python",
   "name": "python3"
  },
  "language_info": {
   "codemirror_mode": {
    "name": "ipython",
    "version": 3
   },
   "file_extension": ".py",
   "mimetype": "text/x-python",
   "name": "python",
   "nbconvert_exporter": "python",
   "pygments_lexer": "ipython3",
   "version": "3.10.9"
  }
 },
 "nbformat": 4,
 "nbformat_minor": 4
}
